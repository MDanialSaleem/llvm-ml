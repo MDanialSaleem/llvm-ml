{
 "cells": [
  {
   "cell_type": "code",
   "execution_count": 49,
   "id": "a86cb6f3",
   "metadata": {},
   "outputs": [],
   "source": [
    "import pandas as pd\n",
    "import math"
   ]
  },
  {
   "cell_type": "code",
   "execution_count": 50,
   "id": "54bb7b7e",
   "metadata": {},
   "outputs": [],
   "source": [
    "df = pd.read_csv(\"2022-07-04-020016/data/crates.csv\")"
   ]
  },
  {
   "cell_type": "code",
   "execution_count": 51,
   "id": "13f7ed79",
   "metadata": {},
   "outputs": [
    {
     "data": {
      "text/plain": [
       "(86925, 11)"
      ]
     },
     "execution_count": 51,
     "metadata": {},
     "output_type": "execute_result"
    }
   ],
   "source": [
    "df.shape"
   ]
  },
  {
   "cell_type": "code",
   "execution_count": 52,
   "id": "282990c3",
   "metadata": {},
   "outputs": [
    {
     "data": {
      "text/plain": [
       "created_at          object\n",
       "description         object\n",
       "documentation       object\n",
       "downloads            int64\n",
       "homepage            object\n",
       "id                   int64\n",
       "max_upload_size    float64\n",
       "name                object\n",
       "readme              object\n",
       "repository          object\n",
       "updated_at          object\n",
       "dtype: object"
      ]
     },
     "execution_count": 52,
     "metadata": {},
     "output_type": "execute_result"
    }
   ],
   "source": [
    "df.dtypes"
   ]
  },
  {
   "cell_type": "code",
   "execution_count": 59,
   "id": "6ea02c6b",
   "metadata": {},
   "outputs": [],
   "source": [
    "filtered_df = df[~ df['repository'].isnull()] "
   ]
  },
  {
   "cell_type": "code",
   "execution_count": 60,
   "id": "097b9149",
   "metadata": {},
   "outputs": [
    {
     "data": {
      "text/plain": [
       "(70282, 11)"
      ]
     },
     "execution_count": 60,
     "metadata": {},
     "output_type": "execute_result"
    }
   ],
   "source": [
    "filtered_df.shape"
   ]
  },
  {
   "cell_type": "code",
   "execution_count": 61,
   "id": "364ec8d8",
   "metadata": {},
   "outputs": [],
   "source": [
    "sorted_df = filtered_df.sort_values(by=['downloads'], ascending=False)"
   ]
  },
  {
   "cell_type": "code",
   "execution_count": 62,
   "id": "2760429d",
   "metadata": {},
   "outputs": [],
   "source": [
    "top_1000 = sorted_df.head(1000)"
   ]
  },
  {
   "cell_type": "code",
   "execution_count": 64,
   "id": "8829c812",
   "metadata": {},
   "outputs": [
    {
     "data": {
      "text/html": [
       "<div>\n",
       "<style scoped>\n",
       "    .dataframe tbody tr th:only-of-type {\n",
       "        vertical-align: middle;\n",
       "    }\n",
       "\n",
       "    .dataframe tbody tr th {\n",
       "        vertical-align: top;\n",
       "    }\n",
       "\n",
       "    .dataframe thead th {\n",
       "        text-align: right;\n",
       "    }\n",
       "</style>\n",
       "<table border=\"1\" class=\"dataframe\">\n",
       "  <thead>\n",
       "    <tr style=\"text-align: right;\">\n",
       "      <th></th>\n",
       "      <th>created_at</th>\n",
       "      <th>description</th>\n",
       "      <th>documentation</th>\n",
       "      <th>downloads</th>\n",
       "      <th>homepage</th>\n",
       "      <th>id</th>\n",
       "      <th>max_upload_size</th>\n",
       "      <th>name</th>\n",
       "      <th>readme</th>\n",
       "      <th>repository</th>\n",
       "      <th>updated_at</th>\n",
       "    </tr>\n",
       "  </thead>\n",
       "  <tbody>\n",
       "    <tr>\n",
       "      <th>70405</th>\n",
       "      <td>2015-02-03 06:17:14.147783</td>\n",
       "      <td>Random number generators and other randomness ...</td>\n",
       "      <td>https://docs.rs/rand</td>\n",
       "      <td>133112707</td>\n",
       "      <td>https://rust-random.github.io/book</td>\n",
       "      <td>1339</td>\n",
       "      <td>NaN</td>\n",
       "      <td>rand</td>\n",
       "      <td># Rand\\n\\n[![Test Status](https://github.com/r...</td>\n",
       "      <td>https://github.com/rust-random/rand</td>\n",
       "      <td>2022-02-14 08:37:47.035988</td>\n",
       "    </tr>\n",
       "    <tr>\n",
       "      <th>71259</th>\n",
       "      <td>2016-09-07 15:22:40.491981</td>\n",
       "      <td>Parser for Rust source code</td>\n",
       "      <td>https://docs.rs/syn</td>\n",
       "      <td>129739120</td>\n",
       "      <td>NaN</td>\n",
       "      <td>6274</td>\n",
       "      <td>NaN</td>\n",
       "      <td>syn</td>\n",
       "      <td>Parser for Rust source code\\n=================...</td>\n",
       "      <td>https://github.com/dtolnay/syn</td>\n",
       "      <td>2022-06-19 00:40:16.443916</td>\n",
       "    </tr>\n",
       "    <tr>\n",
       "      <th>68493</th>\n",
       "      <td>2017-09-14 12:02:18.709038</td>\n",
       "      <td>Core random number generator traits and tools ...</td>\n",
       "      <td>https://docs.rs/rand_core</td>\n",
       "      <td>122866828</td>\n",
       "      <td>https://rust-random.github.io/book</td>\n",
       "      <td>31712</td>\n",
       "      <td>NaN</td>\n",
       "      <td>rand_core</td>\n",
       "      <td># rand_core\\n\\n[![Test Status](https://github....</td>\n",
       "      <td>https://github.com/rust-random/rand</td>\n",
       "      <td>2021-06-15 14:41:35.904252</td>\n",
       "    </tr>\n",
       "    <tr>\n",
       "      <th>71271</th>\n",
       "      <td>2015-01-15 20:22:13.100871</td>\n",
       "      <td>Raw FFI bindings to platform libraries like li...</td>\n",
       "      <td>https://docs.rs/libc/</td>\n",
       "      <td>119948036</td>\n",
       "      <td>https://github.com/rust-lang/libc</td>\n",
       "      <td>795</td>\n",
       "      <td>NaN</td>\n",
       "      <td>libc</td>\n",
       "      <td># libc - Raw FFI bindings to platforms' system...</td>\n",
       "      <td>https://github.com/rust-lang/libc</td>\n",
       "      <td>2022-05-17 06:50:22.341885</td>\n",
       "    </tr>\n",
       "    <tr>\n",
       "      <th>70050</th>\n",
       "      <td>2015-07-08 01:11:24.48504</td>\n",
       "      <td>A macro to ergonomically define an item depend...</td>\n",
       "      <td>https://docs.rs/cfg-if</td>\n",
       "      <td>118702702</td>\n",
       "      <td>https://github.com/alexcrichton/cfg-if</td>\n",
       "      <td>2556</td>\n",
       "      <td>NaN</td>\n",
       "      <td>cfg-if</td>\n",
       "      <td># cfg-if\\n\\n[Documentation](https://docs.rs/cf...</td>\n",
       "      <td>https://github.com/alexcrichton/cfg-if</td>\n",
       "      <td>2020-10-06 18:44:12.67862</td>\n",
       "    </tr>\n",
       "  </tbody>\n",
       "</table>\n",
       "</div>"
      ],
      "text/plain": [
       "                       created_at  \\\n",
       "70405  2015-02-03 06:17:14.147783   \n",
       "71259  2016-09-07 15:22:40.491981   \n",
       "68493  2017-09-14 12:02:18.709038   \n",
       "71271  2015-01-15 20:22:13.100871   \n",
       "70050   2015-07-08 01:11:24.48504   \n",
       "\n",
       "                                             description  \\\n",
       "70405  Random number generators and other randomness ...   \n",
       "71259                        Parser for Rust source code   \n",
       "68493  Core random number generator traits and tools ...   \n",
       "71271  Raw FFI bindings to platform libraries like li...   \n",
       "70050  A macro to ergonomically define an item depend...   \n",
       "\n",
       "                   documentation  downloads  \\\n",
       "70405       https://docs.rs/rand  133112707   \n",
       "71259        https://docs.rs/syn  129739120   \n",
       "68493  https://docs.rs/rand_core  122866828   \n",
       "71271      https://docs.rs/libc/  119948036   \n",
       "70050     https://docs.rs/cfg-if  118702702   \n",
       "\n",
       "                                     homepage     id  max_upload_size  \\\n",
       "70405      https://rust-random.github.io/book   1339              NaN   \n",
       "71259                                     NaN   6274              NaN   \n",
       "68493      https://rust-random.github.io/book  31712              NaN   \n",
       "71271       https://github.com/rust-lang/libc    795              NaN   \n",
       "70050  https://github.com/alexcrichton/cfg-if   2556              NaN   \n",
       "\n",
       "            name                                             readme  \\\n",
       "70405       rand  # Rand\\n\\n[![Test Status](https://github.com/r...   \n",
       "71259        syn  Parser for Rust source code\\n=================...   \n",
       "68493  rand_core  # rand_core\\n\\n[![Test Status](https://github....   \n",
       "71271       libc  # libc - Raw FFI bindings to platforms' system...   \n",
       "70050     cfg-if  # cfg-if\\n\\n[Documentation](https://docs.rs/cf...   \n",
       "\n",
       "                                   repository                  updated_at  \n",
       "70405     https://github.com/rust-random/rand  2022-02-14 08:37:47.035988  \n",
       "71259          https://github.com/dtolnay/syn  2022-06-19 00:40:16.443916  \n",
       "68493     https://github.com/rust-random/rand  2021-06-15 14:41:35.904252  \n",
       "71271       https://github.com/rust-lang/libc  2022-05-17 06:50:22.341885  \n",
       "70050  https://github.com/alexcrichton/cfg-if   2020-10-06 18:44:12.67862  "
      ]
     },
     "execution_count": 64,
     "metadata": {},
     "output_type": "execute_result"
    }
   ],
   "source": [
    "top_1000.head()"
   ]
  },
  {
   "cell_type": "code",
   "execution_count": 65,
   "id": "939efad9",
   "metadata": {},
   "outputs": [],
   "source": [
    "with open('repos.txt', 'w') as f:\n",
    "    f.write(top_1000['repository'].str.cat(sep='\\n'))"
   ]
  }
 ],
 "metadata": {
  "kernelspec": {
   "display_name": "Python 3 (ipykernel)",
   "language": "python",
   "name": "python3"
  },
  "language_info": {
   "codemirror_mode": {
    "name": "ipython",
    "version": 3
   },
   "file_extension": ".py",
   "mimetype": "text/x-python",
   "name": "python",
   "nbconvert_exporter": "python",
   "pygments_lexer": "ipython3",
   "version": "3.9.12"
  }
 },
 "nbformat": 4,
 "nbformat_minor": 5
}
